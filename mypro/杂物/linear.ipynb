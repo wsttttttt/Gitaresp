{
 "cells": [
  {
   "cell_type": "code",
   "execution_count": null,
   "metadata": {},
   "outputs": [],
   "source": [
    "def linear(input, weight, bias=None):\n",
    "\n",
    "    if input.dim() == 2 and bias is not None:   # 输入是二维时，用addmm简化计算\n",
    "        \n",
    "        ret = torch.addmm(bias, input, weight.t())  # 转置t\n",
    "    else:\n",
    "        output = input.matmul(weight.t())\n",
    "        if bias is not None:\n",
    "            output += bias\n",
    "        ret = output\n",
    "    return ret\n"
   ]
  }
 ],
 "metadata": {
  "language_info": {
   "name": "python"
  },
  "orig_nbformat": 4
 },
 "nbformat": 4,
 "nbformat_minor": 2
}
